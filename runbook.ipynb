{
 "cells": [
  {
   "cell_type": "markdown",
   "metadata": {},
   "source": [
    "### Before you start\n",
    "Write down the following variables:"
   ]
  },
  {
   "cell_type": "code",
   "execution_count": null,
   "metadata": {},
   "outputs": [],
   "source": [
    "TENANT_ID=\"<your tenant id>\"\n",
    "SUBSCRIPTION_ID=\"<your subscription id>\""
   ]
  },
  {
   "cell_type": "markdown",
   "metadata": {},
   "source": [
    "**Save your environment ID**: To avoid collision with other participants, we will use the environment name as a suffix for the resource names. You can use your name or any other unique identifier.\n",
    "For example your initials and a random number: `ed42`"
   ]
  },
  {
   "cell_type": "code",
   "execution_count": null,
   "metadata": {},
   "outputs": [],
   "source": [
    "ENV_NAME=\"demo01\""
   ]
  },
  {
   "cell_type": "markdown",
   "metadata": {},
   "source": [
    "We will use ip whitlisting to secure your app."
   ]
  },
  {
   "cell_type": "code",
   "execution_count": null,
   "metadata": {},
   "outputs": [],
   "source": [
    "WHITELIST_IP=!curl -s ipinfo.io/ip\n",
    "print(f\"We will whitelist your IP address: {WHITELIST_IP}\")"
   ]
  },
  {
   "cell_type": "markdown",
   "metadata": {},
   "source": [
    "**Login with the newly created account**:"
   ]
  },
  {
   "cell_type": "code",
   "execution_count": null,
   "metadata": {},
   "outputs": [],
   "source": [
    "!az login --tenant $TENANT_ID"
   ]
  },
  {
   "cell_type": "markdown",
   "metadata": {},
   "source": [
    "**Switch to your project subscription ID**:"
   ]
  },
  {
   "cell_type": "code",
   "execution_count": null,
   "metadata": {},
   "outputs": [],
   "source": [
    "!az account set --subscription $SUBSCRIPTION_ID"
   ]
  },
  {
   "cell_type": "markdown",
   "metadata": {},
   "source": [
    "**Find your Principal ID**:\n",
    "This will be the user that indexes the documents. In this case, we assume it's run locally, thus we use the signed in user."
   ]
  },
  {
   "cell_type": "code",
   "execution_count": null,
   "metadata": {},
   "outputs": [],
   "source": [
    "PRINCIPAL_ID_1=!az ad signed-in-user show --only-show-errors --output=tsv --query=objectId\n",
    "# or\n",
    "PRINCIPAL_ID_2=!az ad signed-in-user show --only-show-errors --output=tsv --query=id\n",
    "PRINCIPAL_ID = PRINCIPAL_ID_1[0] if PRINCIPAL_ID_1 else PRINCIPAL_ID_2[0]\n",
    "\n",
    "print(f\"Your principal id is: {PRINCIPAL_ID}\")"
   ]
  },
  {
   "cell_type": "markdown",
   "metadata": {},
   "source": [
    "### Deploying Infrastructure Resources"
   ]
  },
  {
   "cell_type": "code",
   "execution_count": null,
   "metadata": {},
   "outputs": [],
   "source": [
    "!PROJECT=workshop-oai \\\n",
    "AZURE_SUBSCRIPTION_ID=$SUBSCRIPTION_ID \\\n",
    "AZURE_ENV_NAME=$ENV_NAME \\\n",
    "AZURE_LOCATION=eastus \\\n",
    "AZURE_PRINCIPAL_ID=$PRINCIPAL_ID \\\n",
    "AZURE_AUTH_CLIENT_ID=\"\" \\\n",
    "APP_WHITELIST_IP=\"185.89.153.26/32\" \\\n",
    "bash scripts/deploy_infrastructure.sh"
   ]
  },
  {
   "cell_type": "code",
   "execution_count": null,
   "metadata": {},
   "outputs": [],
   "source": [
    "RESOURCE_GROUP_NAME=f\"workshop-oai-{ENV_NAME}-rg\"\n",
    "print(f\"Your resource group name is: {RESOURCE_GROUP_NAME}\")"
   ]
  },
  {
   "cell_type": "markdown",
   "metadata": {},
   "source": [
    "### Deploying the App Code\n",
    "Deploy the app code to Azure App Service."
   ]
  },
  {
   "cell_type": "code",
   "execution_count": null,
   "metadata": {},
   "outputs": [],
   "source": [
    "BACKEND_APP_NAME=!az deployment group show -g $RESOURCE_GROUP_NAME -n web --query properties.outputs.name.value\n",
    "BACKEND_APP_NAME = BACKEND_APP_NAME[0]\n",
    "\n",
    "print(f\"Your backend app name is: {BACKEND_APP_NAME}\")"
   ]
  },
  {
   "cell_type": "markdown",
   "metadata": {},
   "source": [
    "Upload the code to Azure App Service:"
   ]
  },
  {
   "cell_type": "code",
   "execution_count": null,
   "metadata": {},
   "outputs": [],
   "source": [
    "!az webapp up \\\n",
    "--runtime PYTHON:3.10 \\\n",
    "--sku B1 \\\n",
    "--name $BACKEND_APP_NAME \\\n",
    "--resource-group $RESOURCE_GROUP_NAME \\\n",
    "--subscription $SUBSCRIPTION_ID"
   ]
  },
  {
   "cell_type": "markdown",
   "metadata": {},
   "source": [
    "## Index the documents\n",
    "Run the following command to create `.env` file. "
   ]
  },
  {
   "cell_type": "code",
   "execution_count": null,
   "metadata": {},
   "outputs": [],
   "source": [
    "!bash scripts/create_env.sh $RESOURCE_GROUP_NAME"
   ]
  },
  {
   "cell_type": "markdown",
   "metadata": {},
   "source": [
    "Install python dependencies:"
   ]
  },
  {
   "cell_type": "code",
   "execution_count": null,
   "metadata": {},
   "outputs": [],
   "source": [
    "!pip install -r requirements.txt"
   ]
  },
  {
   "cell_type": "markdown",
   "metadata": {},
   "source": [
    "Index the documents:"
   ]
  },
  {
   "cell_type": "code",
   "execution_count": null,
   "metadata": {},
   "outputs": [],
   "source": [
    "\n",
    "!python scripts/indexing.py --throttle 1 --documents-path=data/transformers_docs_medium"
   ]
  },
  {
   "cell_type": "markdown",
   "metadata": {},
   "source": [
    "## Test the app\n",
    "Open the app url in the browser and ask a question about transformers library."
   ]
  },
  {
   "cell_type": "code",
   "execution_count": null,
   "metadata": {},
   "outputs": [],
   "source": [
    "BACKEND_URL = !az deployment group show -g $RESOURCE_GROUP_NAME -n web --query properties.outputs.uri.value\n",
    "BACKEND_URL = BACKEND_URL[0]\n",
    "\n",
    "print(f\"Your backend url is: {BACKEND_URL}\")"
   ]
  },
  {
   "cell_type": "code",
   "execution_count": null,
   "metadata": {},
   "outputs": [],
   "source": []
  }
 ],
 "metadata": {
  "kernelspec": {
   "display_name": ".venv",
   "language": "python",
   "name": "python3"
  },
  "language_info": {
   "codemirror_mode": {
    "name": "ipython",
    "version": 3
   },
   "file_extension": ".py",
   "mimetype": "text/x-python",
   "name": "python",
   "nbconvert_exporter": "python",
   "pygments_lexer": "ipython3",
   "version": "3.10.7"
  }
 },
 "nbformat": 4,
 "nbformat_minor": 2
}
